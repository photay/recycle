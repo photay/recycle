{
 "cells": [
  {
   "cell_type": "code",
   "execution_count": 13,
   "metadata": {},
   "outputs": [],
   "source": [
    "import os\n",
    "from PIL import Image\n",
    "from clarifai import rest\n",
    "from clarifai.rest import ClarifaiApp\n",
    "from clarifai.rest import Image as ClImage\n",
    "app = ClarifaiApp(api_key = 'd8e7b65c70b74a448fd2c3e4b76ed03c')\n",
    "test_id = 'test'"
   ]
  },
  {
   "cell_type": "code",
   "execution_count": 7,
   "metadata": {},
   "outputs": [
    {
     "data": {
      "text/plain": [
       "{'model': {'app_id': 'ddbd624def5c48d8a706770db5ed1f99',\n",
       "  'created_at': '2017-11-05T02:33:15.667414Z',\n",
       "  'id': 'test',\n",
       "  'model_version': {'active_concept_count': 2,\n",
       "   'created_at': '2017-11-05T02:33:15.674716Z',\n",
       "   'id': 'ab1ad54768ef4442b942388cdfab0c28',\n",
       "   'status': {'code': 21102, 'description': 'Model not yet trained'}},\n",
       "  'name': 'test',\n",
       "  'output_info': {'message': 'Show output_info with: GET /models/{model_id}/output_info',\n",
       "   'output_config': {'closed_environment': False,\n",
       "    'concepts_mutually_exclusive': False},\n",
       "   'type': 'concept',\n",
       "   'type_ext': 'concept'}},\n",
       " 'status': {'code': 10000, 'description': 'Ok'}}"
      ]
     },
     "execution_count": 7,
     "metadata": {},
     "output_type": "execute_result"
    }
   ],
   "source": [
    "#create model\n",
    "concepts = [\"coffee_cup\", \"napkins\"]\n",
    "for con in concepts:\n",
    "    for i in range(10,70):\n",
    "        not_con = list(filter(lambda x : x != con, concepts))\n",
    "        pic = os.getcwd()+\"/\"+con+'/0'+str(i)+\".jpg\"\n",
    "        img = Image.open(pic)\n",
    "        app.inputs.create_image_from_filename(pic, concepts=[con], \\\n",
    "                 not_concepts=not_con)\n",
    "\n",
    "model = app.models.create(test_id, concepts=concepts)\n",
    "model.get_info()"
   ]
  },
  {
   "cell_type": "code",
   "execution_count": 8,
   "metadata": {},
   "outputs": [
    {
     "data": {
      "text/plain": [
       "{'model': {'app_id': 'ddbd624def5c48d8a706770db5ed1f99',\n",
       "  'created_at': '2017-11-05T02:33:15.667414Z',\n",
       "  'id': 'test',\n",
       "  'model_version': {'active_concept_count': 2,\n",
       "   'created_at': '2017-11-05T02:33:25.755424Z',\n",
       "   'id': 'fa6e80e6c0fa42a199a531947fe8f929',\n",
       "   'status': {'code': 21100, 'description': 'Model trained successfully'},\n",
       "   'total_input_count': 312},\n",
       "  'name': 'test',\n",
       "  'output_info': {'message': 'Show output_info with: GET /models/{model_id}/output_info',\n",
       "   'output_config': {'closed_environment': False,\n",
       "    'concepts_mutually_exclusive': False},\n",
       "   'type': 'concept',\n",
       "   'type_ext': 'concept'}},\n",
       " 'status': {'code': 10000, 'description': 'Ok'}}"
      ]
     },
     "execution_count": 8,
     "metadata": {},
     "output_type": "execute_result"
    }
   ],
   "source": [
    "#train model\n",
    "model = app.models.get(test_id)\n",
    "model.train()\n",
    "model.get_info()"
   ]
  },
  {
   "cell_type": "code",
   "execution_count": 15,
   "metadata": {},
   "outputs": [
    {
     "data": {
      "text/plain": [
       "{'outputs': [{'created_at': '2017-11-05T02:48:29.449552798Z',\n",
       "   'data': {'concepts': [{'app_id': 'ddbd624def5c48d8a706770db5ed1f99',\n",
       "      'id': 'coffee_cup',\n",
       "      'name': 'coffee_cup',\n",
       "      'value': 0.2943339},\n",
       "     {'app_id': 'ddbd624def5c48d8a706770db5ed1f99',\n",
       "      'id': 'napkins',\n",
       "      'name': 'napkins',\n",
       "      'value': 0.060338113}]},\n",
       "   'id': 'c114f3d9c99048c49595062b47dfa01d',\n",
       "   'input': {'data': {'image': {'url': 'http://i0.kym-cdn.com/entries/icons/original/000/023/621/63618909498957938279415143_starbucks.jpeg'}},\n",
       "    'id': 'b09066743a074f79ad260d7301d26271'},\n",
       "   'model': {'app_id': 'ddbd624def5c48d8a706770db5ed1f99',\n",
       "    'created_at': '2017-11-05T02:33:15.667414Z',\n",
       "    'id': 'test',\n",
       "    'model_version': {'created_at': '2017-11-05T02:33:25.755424Z',\n",
       "     'id': 'fa6e80e6c0fa42a199a531947fe8f929',\n",
       "     'status': {'code': 21100, 'description': 'Model trained successfully'},\n",
       "     'total_input_count': 312},\n",
       "    'name': 'test',\n",
       "    'output_info': {'message': 'Show output_info with: GET /models/{model_id}/output_info',\n",
       "     'output_config': {'closed_environment': False,\n",
       "      'concepts_mutually_exclusive': False},\n",
       "     'type': 'concept',\n",
       "     'type_ext': 'concept'}},\n",
       "   'status': {'code': 10000, 'description': 'Ok'}}],\n",
       " 'status': {'code': 10000, 'description': 'Ok'}}"
      ]
     },
     "execution_count": 15,
     "metadata": {},
     "output_type": "execute_result"
    }
   ],
   "source": [
    "# predict with samples\n",
    "model = app.models.get(test_id)\n",
    "image = ClImage(url = \"http://i0.kym-cdn.com/entries/icons/original/000/023/621/63618909498957938279415143_starbucks.jpeg\")\n",
    "model.predict([image])"
   ]
  },
  {
   "cell_type": "code",
   "execution_count": null,
   "metadata": {},
   "outputs": [],
   "source": []
  },
  {
   "cell_type": "code",
   "execution_count": null,
   "metadata": {},
   "outputs": [],
   "source": []
  },
  {
   "cell_type": "code",
   "execution_count": null,
   "metadata": {},
   "outputs": [],
   "source": [
    "\n"
   ]
  },
  {
   "cell_type": "code",
   "execution_count": null,
   "metadata": {},
   "outputs": [],
   "source": []
  }
 ],
 "metadata": {
  "kernelspec": {
   "display_name": "Python 3",
   "language": "python",
   "name": "python3"
  },
  "language_info": {
   "codemirror_mode": {
    "name": "ipython",
    "version": 3
   },
   "file_extension": ".py",
   "mimetype": "text/x-python",
   "name": "python",
   "nbconvert_exporter": "python",
   "pygments_lexer": "ipython3",
   "version": "3.6.2"
  }
 },
 "nbformat": 4,
 "nbformat_minor": 2
}
