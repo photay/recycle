{
 "cells": [
  {
   "cell_type": "code",
   "execution_count": 2,
   "metadata": {},
   "outputs": [],
   "source": [
    "from clarifai import rest\n",
    "from clarifai.rest import ClarifaiApp\n",
    "from clarifai.rest import Image as ClImage\n",
    "import glob\n",
    "app = ClarifaiApp(api_key = 'd8e7b65c70b74a448fd2c3e4b76ed03c')"
   ]
  },
  {
   "cell_type": "code",
   "execution_count": 23,
   "metadata": {},
   "outputs": [
    {
     "data": {
      "text/plain": [
       "{'model': {'app_id': 'ddbd624def5c48d8a706770db5ed1f99',\n",
       "  'created_at': '2017-11-05T01:39:24.450127Z',\n",
       "  'id': 'test3',\n",
       "  'model_version': {'active_concept_count': 2,\n",
       "   'created_at': '2017-11-05T01:39:24.457862Z',\n",
       "   'id': 'b5f8e21b23a4407bb6608fa1d2d7dca0',\n",
       "   'status': {'code': 21102, 'description': 'Model not yet trained'}},\n",
       "  'name': 'test3',\n",
       "  'output_info': {'message': 'Show output_info with: GET /models/{model_id}/output_info',\n",
       "   'output_config': {'closed_environment': False,\n",
       "    'concepts_mutually_exclusive': False},\n",
       "   'type': 'concept',\n",
       "   'type_ext': 'concept'}},\n",
       " 'status': {'code': 10000, 'description': 'Ok'}}"
      ]
     },
     "execution_count": 23,
     "metadata": {},
     "output_type": "execute_result"
    }
   ],
   "source": [
    "#create model\n",
    "concepts = [\"coffee_cup\", \"napkin\"]\n",
    "for con in concepts:\n",
    "    for pic in glob.glob(\"recycle/\"+con+\"*.jpg\"):\n",
    "        not_con = list(filter(lambda x : x != con, concepts))\n",
    "        app.inputs.create_image_from_filename(pic, concepts=[con], \\\n",
    "                 not_concepts=not_con)\n",
    "\n",
    "model = app.models.create('test3', concepts=concepts)\n",
    "model.get_info()"
   ]
  },
  {
   "cell_type": "code",
   "execution_count": 25,
   "metadata": {},
   "outputs": [
    {
     "data": {
      "text/plain": [
       "{'model': {'app_id': 'ddbd624def5c48d8a706770db5ed1f99',\n",
       "  'created_at': '2017-11-05T01:39:24.450127Z',\n",
       "  'id': 'test3',\n",
       "  'model_version': {'active_concept_count': 2,\n",
       "   'created_at': '2017-11-05T01:39:36.265604Z',\n",
       "   'id': 'c78efbabe2e9482080ae2730ba098249',\n",
       "   'status': {'code': 21111,\n",
       "    'description': 'Model training had no positive examples.',\n",
       "    'details': 'Positive examples missing for concepts: [coffee_cup napkin]'}},\n",
       "  'name': 'test3',\n",
       "  'output_info': {'message': 'Show output_info with: GET /models/{model_id}/output_info',\n",
       "   'output_config': {'closed_environment': False,\n",
       "    'concepts_mutually_exclusive': False},\n",
       "   'type': 'concept',\n",
       "   'type_ext': 'concept'}},\n",
       " 'status': {'code': 10000, 'description': 'Ok'}}"
      ]
     },
     "execution_count": 25,
     "metadata": {},
     "output_type": "execute_result"
    }
   ],
   "source": [
    "model.get_info()"
   ]
  },
  {
   "cell_type": "code",
   "execution_count": 24,
   "metadata": {},
   "outputs": [
    {
     "data": {
      "text/plain": [
       "<clarifai.rest.client.Model at 0x10c8f3e80>"
      ]
     },
     "execution_count": 24,
     "metadata": {},
     "output_type": "execute_result"
    }
   ],
   "source": [
    "#train model\n",
    "model = app.models.get('test3')\n",
    "model.train()"
   ]
  },
  {
   "cell_type": "code",
   "execution_count": null,
   "metadata": {},
   "outputs": [],
   "source": [
    "# predict with samples\n",
    "image = ClImage(url='')\n",
    "model.predict([image])"
   ]
  },
  {
   "cell_type": "code",
   "execution_count": 29,
   "metadata": {},
   "outputs": [
    {
     "name": "stdout",
     "output_type": "stream",
     "text": [
      "[]\n"
     ]
    }
   ],
   "source": [
    "concepts = [\"coffee_cup\", \"napkin\"]\n",
    "image = []\n",
    "for con in concepts:\n",
    "    for pic in glob.glob(con+\"*.jpg\"):\n",
    "        img = Image.open(pic)\n",
    "        image.append(img)\n",
    "print(image)"
   ]
  },
  {
   "cell_type": "code",
   "execution_count": null,
   "metadata": {},
   "outputs": [],
   "source": []
  }
 ],
 "metadata": {
  "kernelspec": {
   "display_name": "Python 3",
   "language": "python",
   "name": "python3"
  },
  "language_info": {
   "codemirror_mode": {
    "name": "ipython",
    "version": 3
   },
   "file_extension": ".py",
   "mimetype": "text/x-python",
   "name": "python",
   "nbconvert_exporter": "python",
   "pygments_lexer": "ipython3",
   "version": "3.6.2"
  }
 },
 "nbformat": 4,
 "nbformat_minor": 2
}
